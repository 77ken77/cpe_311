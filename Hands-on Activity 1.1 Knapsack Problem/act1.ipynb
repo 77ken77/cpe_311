{
 "cells": [
  {
   "cell_type": "markdown",
   "id": "193686ba",
   "metadata": {
    "id": "193686ba"
   },
   "source": [
    "# Hands-on Activity 1.1 | Optimization and Knapsack Problem"
   ]
  },
  {
   "cell_type": "markdown",
   "id": "8d87e989",
   "metadata": {
    "id": "8d87e989"
   },
   "source": [
    "#### Objective(s):\n",
    "\n",
    "This activity aims to demonstrate how to apply  greedy and brute force algorithms to solve optimization problems"
   ]
  },
  {
   "cell_type": "markdown",
   "id": "7717a27a",
   "metadata": {
    "id": "7717a27a"
   },
   "source": [
    "#### Intended Learning Outcomes (ILOs):\n",
    "* Demonstrate how to solve knapsacks problems using greedy algorithm\n",
    "* Demonstrate how to  solve knapsacks problems using brute force algorithm\n"
   ]
  },
  {
   "cell_type": "markdown",
   "id": "6454cfe7",
   "metadata": {
    "id": "6454cfe7"
   },
   "source": [
    "#### Resources:\n",
    "* Jupyter Notebook\n"
   ]
  },
  {
   "cell_type": "markdown",
   "id": "433711ac",
   "metadata": {
    "id": "433711ac"
   },
   "source": [
    "#### Procedures:"
   ]
  },
  {
   "cell_type": "markdown",
   "id": "e54a8995",
   "metadata": {
    "id": "e54a8995"
   },
   "source": [
    "1. Create a Food class that defines the following:\n",
    "* name of the food\n",
    "* value of the food\n",
    "* calories of the food\n",
    "\n",
    "2. Create the following methods inside the Food class:\n",
    "* A method that returns the value of the food\n",
    "* A method that returns the cost of the food\n",
    "* A method that calculates the density of the food (Value / Cost)\n",
    "* A method that returns a string to display the name, value and calories of the food"
   ]
  },
  {
   "cell_type": "code",
   "execution_count": 23,
   "id": "cdd8310c",
   "metadata": {
    "id": "cdd8310c"
   },
   "outputs": [],
   "source": [
    "class Food(object):\n",
    "    def __init__(self, n, v, w):\n",
    "        # Make the variables private\n",
    "        self.name = n\n",
    "        self.value = v\n",
    "        self.calories = w\n",
    "    def getValue(self):\n",
    "        return self.value\n",
    "    def getCost(self):\n",
    "        return self.calories\n",
    "    def density(self):\n",
    "        return self.getValue()/self.getCost()\n",
    "    def __str__(self):\n",
    "        return self.name + ': <' + str(self.value)+ ', ' + str(self.calories) + '>'"
   ]
  },
  {
   "cell_type": "markdown",
   "id": "b36eee15",
   "metadata": {
    "id": "b36eee15"
   },
   "source": [
    "3. Create a buildMenu method that builds the name, value and calories of the food\n"
   ]
  },
  {
   "cell_type": "code",
   "execution_count": 24,
   "id": "509672a4",
   "metadata": {
    "id": "509672a4"
   },
   "outputs": [],
   "source": [
    "def buildMenu(names, values, calories):\n",
    "    menu = []\n",
    "    for i in range(len(values)):\n",
    "        menu.append(Food(names[i], values[i],calories[i]))\n",
    "    return menu"
   ]
  },
  {
   "cell_type": "markdown",
   "id": "86f3a85b",
   "metadata": {
    "id": "86f3a85b"
   },
   "source": [
    "4. Create a method greedy to return total value and cost of added food based on the desired maximum cost"
   ]
  },
  {
   "cell_type": "code",
   "execution_count": 25,
   "id": "b76912f0",
   "metadata": {
    "id": "b76912f0"
   },
   "outputs": [],
   "source": [
    "def greedy(items, maxCost, keyFunction):\n",
    "    \"\"\"Assumes items a list, maxCost >= 0,         keyFunction maps elements of items to numbers\"\"\"\n",
    "    itemsCopy = sorted(items, key = keyFunction,\n",
    "                       reverse = True)\n",
    "    result = []\n",
    "    totalValue, totalCost = 0.0, 0.0\n",
    "    for i in range(len(itemsCopy)):\n",
    "        if (totalCost+itemsCopy[i].getCost()) <= maxCost:\n",
    "            result.append(itemsCopy[i])\n",
    "            totalCost += itemsCopy[i].getCost()\n",
    "            totalValue += itemsCopy[i].getValue()\n",
    "    return (result, totalValue)"
   ]
  },
  {
   "cell_type": "markdown",
   "id": "887c566c",
   "metadata": {
    "id": "887c566c"
   },
   "source": [
    "5. Create a testGreedy method to test the greedy method"
   ]
  },
  {
   "cell_type": "code",
   "execution_count": 26,
   "id": "61f2a7b0",
   "metadata": {
    "id": "61f2a7b0"
   },
   "outputs": [],
   "source": [
    "def testGreedy(items, constraint, keyFunction):\n",
    "    taken, val = greedy(items, constraint, keyFunction)\n",
    "    print('Total value of items taken =', val)\n",
    "    for item in taken:\n",
    "        print('   ', item)"
   ]
  },
  {
   "cell_type": "code",
   "execution_count": 27,
   "id": "f93e5bfe",
   "metadata": {
    "id": "f93e5bfe"
   },
   "outputs": [],
   "source": [
    "def testGreedys(foods, maxUnits):\n",
    "    print('Use greedy by value to allocate', maxUnits,          'calories')\n",
    "    testGreedy(foods, maxUnits, Food.getValue)\n",
    "    print('\\nUse greedy by cost to allocate', maxUnits,          'calories')\n",
    "    testGreedy(foods, maxUnits, lambda x: 1/Food.getCost(x))\n",
    "    print('\\nUse greedy by density to allocate', maxUnits,          'calories')\n",
    "    testGreedy(foods, maxUnits, Food.density)"
   ]
  },
  {
   "cell_type": "markdown",
   "id": "cdf99f37",
   "metadata": {
    "id": "cdf99f37"
   },
   "source": [
    "6. Create arrays of food name, values and calories\n",
    "7. Call the buildMenu to create menu for food\n",
    "8. Use testGreedys method to pick food according to the desired calories"
   ]
  },
  {
   "cell_type": "code",
   "execution_count": 28,
   "id": "ee22c2dd",
   "metadata": {
    "colab": {
     "base_uri": "https://localhost:8080/",
     "height": 0
    },
    "id": "ee22c2dd",
    "outputId": "563dc40b-efec-474f-ad76-7814dcee46d2"
   },
   "outputs": [
    {
     "name": "stdout",
     "output_type": "stream",
     "text": [
      "Use greedy by value to allocate 2000 calories\n",
      "Total value of items taken = 603.0\n",
      "    burger: <100, 354>\n",
      "    pizza: <95, 258>\n",
      "    beer: <90, 154>\n",
      "    fries: <90, 365>\n",
      "    wine: <89, 123>\n",
      "    cola: <79, 150>\n",
      "    apple: <50, 95>\n",
      "    donut: <10, 195>\n",
      "\n",
      "Use greedy by cost to allocate 2000 calories\n",
      "Total value of items taken = 603.0\n",
      "    apple: <50, 95>\n",
      "    wine: <89, 123>\n",
      "    cola: <79, 150>\n",
      "    beer: <90, 154>\n",
      "    donut: <10, 195>\n",
      "    pizza: <95, 258>\n",
      "    burger: <100, 354>\n",
      "    fries: <90, 365>\n",
      "\n",
      "Use greedy by density to allocate 2000 calories\n",
      "Total value of items taken = 603.0\n",
      "    wine: <89, 123>\n",
      "    beer: <90, 154>\n",
      "    cola: <79, 150>\n",
      "    apple: <50, 95>\n",
      "    pizza: <95, 258>\n",
      "    burger: <100, 354>\n",
      "    fries: <90, 365>\n",
      "    donut: <10, 195>\n"
     ]
    }
   ],
   "source": [
    "names = ['wine', 'beer', 'pizza', 'burger', 'fries','cola', 'apple', 'donut', 'cake']\n",
    "values = [89,90,95,100,90,79,50,10]\n",
    "calories = [123,154,258,354,365,150,95,195]\n",
    "foods = buildMenu(names, values, calories)\n",
    "testGreedys(foods, 2000)"
   ]
  },
  {
   "cell_type": "markdown",
   "id": "a6bae808",
   "metadata": {
    "id": "a6bae808"
   },
   "source": [
    "Task 1: Change the maxUnits to 100"
   ]
  },
  {
   "cell_type": "code",
   "execution_count": 29,
   "id": "3c9655c5",
   "metadata": {
    "colab": {
     "base_uri": "https://localhost:8080/",
     "height": 0
    },
    "id": "3c9655c5",
    "outputId": "cfd4af0b-1770-4fa4-93c7-f682197e1726"
   },
   "outputs": [
    {
     "name": "stdout",
     "output_type": "stream",
     "text": [
      "Use greedy by value to allocate 100 calories\n",
      "Total value of items taken = 50.0\n",
      "    apple: <50, 95>\n",
      "\n",
      "Use greedy by cost to allocate 100 calories\n",
      "Total value of items taken = 50.0\n",
      "    apple: <50, 95>\n",
      "\n",
      "Use greedy by density to allocate 100 calories\n",
      "Total value of items taken = 50.0\n",
      "    apple: <50, 95>\n"
     ]
    }
   ],
   "source": [
    "names = ['wine', 'beer', 'pizza', 'burger', 'fries','cola', 'apple', 'donut', 'cake']\n",
    "values = [89,90,95,100,90,79,50,10]\n",
    "calories = [123,154,258,354,365,150,95,195]\n",
    "foods = buildMenu(names, values, calories)\n",
    "testGreedys(foods, 100)"
   ]
  },
  {
   "cell_type": "markdown",
   "id": "d13f4bdc",
   "metadata": {
    "id": "d13f4bdc"
   },
   "source": [
    "Task 2: Modify codes to add additional weight (criterion) to select food items."
   ]
  },
  {
   "cell_type": "code",
   "execution_count": 30,
   "id": "RN_IHGJ4Qcaw",
   "metadata": {
    "id": "RN_IHGJ4Qcaw"
   },
   "outputs": [],
   "source": [
    "class Food(object):\n",
    "    def __init__(self, n, v, w, wt):\n",
    "        # Make the variables private\n",
    "        self.name = n\n",
    "        self.value = v\n",
    "        self.calories = w\n",
    "        self.weight = wt #new attribute\n",
    "\n",
    "    def getValue(self):\n",
    "        return self.value\n",
    "\n",
    "    def getCost(self):\n",
    "        return self.calories\n",
    "\n",
    "    def getWeight(self): #new method\n",
    "        return self.weight\n",
    "\n",
    "    def density(self):\n",
    "        return self.getValue() / self.getCost()\n",
    "\n",
    "    def weightDensity(self): #new method\n",
    "        return self.getValue() / self.getWeight()\n",
    "\n",
    "    def __str__(self):\n",
    "        return self.name + ': <' + str(self.value) + ', ' + str(self.calories) + ', ' + str(self.weight) + '>'\n",
    "\n",
    "def buildMenu(names, values, calories, weights):\n",
    "    menu = []\n",
    "    for i in range(len(values)):\n",
    "        menu.append(Food(names[i], values[i], calories[i], weights[i])) #added weights[i]\n",
    "    return menu\n",
    "def testGreedy(items, constraint, keyFunction):\n",
    "    taken, val = greedy(items, constraint, keyFunction)\n",
    "    print('Total value of items taken =', val)\n",
    "    for item in taken:\n",
    "        print('   ', item)"
   ]
  },
  {
   "cell_type": "markdown",
   "id": "ba95a8c6",
   "metadata": {
    "id": "ba95a8c6"
   },
   "source": [
    "Task 3: Test your modified code to test the greedy algorithm to select food items with your additional weight."
   ]
  },
  {
   "cell_type": "code",
   "execution_count": 31,
   "id": "9d9b25c1",
   "metadata": {
    "colab": {
     "base_uri": "https://localhost:8080/",
     "height": 0
    },
    "id": "9d9b25c1",
    "outputId": "5b804fcc-cad8-4352-e62a-8266940c2525"
   },
   "outputs": [
    {
     "name": "stdout",
     "output_type": "stream",
     "text": [
      "Use greedy by value to allocate 100 calories\n",
      "Total value of items taken = 50.0\n",
      "    apple: <50, 95, 0.5>\n",
      "\n",
      "Use greedy by cost to allocate 100 calories\n",
      "Total value of items taken = 50.0\n",
      "    apple: <50, 95, 0.5>\n",
      "\n",
      "Use greedy by density to allocate 100 calories\n",
      "Total value of items taken = 50.0\n",
      "    apple: <50, 95, 0.5>\n",
      "\n",
      "Use greedy by weight to allocate 100 calories\n",
      "Total value of items taken = 50.0\n",
      "    apple: <50, 95, 0.5>\n",
      "\n",
      "Use greedy by weight density to allocate 100 calories\n",
      "Total value of items taken = 50.0\n",
      "    apple: <50, 95, 0.5>\n"
     ]
    }
   ],
   "source": [
    "def testGreedys(foods, maxUnits):\n",
    "    print('Use greedy by value to allocate', maxUnits, 'calories')\n",
    "    testGreedy(foods, maxUnits, Food.getValue)\n",
    "    print('\\nUse greedy by cost to allocate', maxUnits, 'calories')\n",
    "    testGreedy(foods, maxUnits, lambda x: 1 / Food.getCost(x))\n",
    "    print('\\nUse greedy by density to allocate', maxUnits, 'calories')\n",
    "    testGreedy(foods, maxUnits, Food.density)\n",
    "    print('\\nUse greedy by weight to allocate', maxUnits, 'calories') #new test\n",
    "    testGreedy(foods, maxUnits, Food.getWeight)\n",
    "    print('\\nUse greedy by weight density to allocate', maxUnits, 'calories')#new test\n",
    "    testGreedy(foods, maxUnits, Food.weightDensity)\n",
    "\n",
    "names = ['wine', 'beer', 'pizza', 'burger', 'fries', 'cola', 'apple', 'donut', 'cake']\n",
    "values = [89, 90, 95, 100, 90, 79, 50, 10]\n",
    "calories = [123, 154, 258, 354, 365, 150, 95, 195]\n",
    "weights = [1, 1.5, 2, 2.5, 3, 1.2, 0.5, 0.3]  # Example weights\n",
    "foods = buildMenu(names, values, calories, weights)\n",
    "testGreedys(foods, 100)  # Changed maxUnits from 2000 to 100"
   ]
  },
  {
   "cell_type": "markdown",
   "id": "_zX-kJoLdNz2",
   "metadata": {
    "id": "_zX-kJoLdNz2"
   },
   "source": [
    "Using 1000 instead of 100"
   ]
  },
  {
   "cell_type": "code",
   "execution_count": 33,
   "id": "1t28kPEMdQHe",
   "metadata": {
    "colab": {
     "base_uri": "https://localhost:8080/",
     "height": 0
    },
    "id": "1t28kPEMdQHe",
    "outputId": "f5cdc2c2-5a98-498a-d471-9f10889a4a22"
   },
   "outputs": [
    {
     "name": "stdout",
     "output_type": "stream",
     "text": [
      "Use greedy by value to allocate 1000 calories\n",
      "Total value of items taken = 424.0\n",
      "    burger: <100, 354, 2.5>\n",
      "    pizza: <95, 258, 2>\n",
      "    beer: <90, 154, 1.5>\n",
      "    wine: <89, 123, 1>\n",
      "    apple: <50, 95, 0.5>\n",
      "\n",
      "Use greedy by cost to allocate 1000 calories\n",
      "Total value of items taken = 413.0\n",
      "    apple: <50, 95, 0.5>\n",
      "    wine: <89, 123, 1>\n",
      "    cola: <79, 150, 1.2>\n",
      "    beer: <90, 154, 1.5>\n",
      "    donut: <10, 195, 0.3>\n",
      "    pizza: <95, 258, 2>\n",
      "\n",
      "Use greedy by density to allocate 1000 calories\n",
      "Total value of items taken = 413.0\n",
      "    wine: <89, 123, 1>\n",
      "    beer: <90, 154, 1.5>\n",
      "    cola: <79, 150, 1.2>\n",
      "    apple: <50, 95, 0.5>\n",
      "    pizza: <95, 258, 2>\n",
      "    donut: <10, 195, 0.3>\n",
      "\n",
      "Use greedy by weight to allocate 1000 calories\n",
      "Total value of items taken = 285.0\n",
      "    fries: <90, 365, 3>\n",
      "    burger: <100, 354, 2.5>\n",
      "    pizza: <95, 258, 2>\n",
      "\n",
      "Use greedy by weight density to allocate 1000 calories\n",
      "Total value of items taken = 413.0\n",
      "    apple: <50, 95, 0.5>\n",
      "    wine: <89, 123, 1>\n",
      "    cola: <79, 150, 1.2>\n",
      "    beer: <90, 154, 1.5>\n",
      "    pizza: <95, 258, 2>\n",
      "    donut: <10, 195, 0.3>\n"
     ]
    }
   ],
   "source": [
    "def testGreedys(foods, maxUnits):\n",
    "    print('Use greedy by value to allocate', maxUnits, 'calories')\n",
    "    testGreedy(foods, maxUnits, Food.getValue)\n",
    "    print('\\nUse greedy by cost to allocate', maxUnits, 'calories')\n",
    "    testGreedy(foods, maxUnits, lambda x: 1 / Food.getCost(x))\n",
    "    print('\\nUse greedy by density to allocate', maxUnits, 'calories')\n",
    "    testGreedy(foods, maxUnits, Food.density)\n",
    "    print('\\nUse greedy by weight to allocate', maxUnits, 'calories') #new test\n",
    "    testGreedy(foods, maxUnits, Food.getWeight)\n",
    "    print('\\nUse greedy by weight density to allocate', maxUnits, 'calories')#new test\n",
    "    testGreedy(foods, maxUnits, Food.weightDensity)\n",
    "\n",
    "names = ['wine', 'beer', 'pizza', 'burger', 'fries', 'cola', 'apple', 'donut', 'cake']\n",
    "values = [89, 90, 95, 100, 90, 79, 50, 10]\n",
    "calories = [123, 154, 258, 354, 365, 150, 95, 195]\n",
    "weights = [1, 1.5, 2, 2.5, 3, 1.2, 0.5, 0.3]  # Example weights\n",
    "foods = buildMenu(names, values, calories, weights)\n",
    "testGreedys(foods, 1000)  # Changed maxUnits from 2000 to 100"
   ]
  },
  {
   "cell_type": "markdown",
   "id": "1baef0aa",
   "metadata": {
    "id": "1baef0aa"
   },
   "source": [
    "9. Create method to use  Bruteforce algorithm instead of greedy algorithm"
   ]
  },
  {
   "cell_type": "code",
   "execution_count": 34,
   "id": "3f61953e",
   "metadata": {
    "id": "3f61953e"
   },
   "outputs": [],
   "source": [
    "def maxVal(toConsider, avail):\n",
    "    \"\"\"Assumes toConsider a list of items, avail a weight\n",
    "       Returns a tuple of the total value of a solution to the\n",
    "         0/1 knapsack problem and the items of that solution\"\"\"\n",
    "    if toConsider == [] or avail == 0:\n",
    "        result = (0, ())\n",
    "    elif toConsider[0].getCost() > avail:\n",
    "        #Explore right branch only\n",
    "        result = maxVal(toConsider[1:], avail)\n",
    "    else:\n",
    "        nextItem = toConsider[0]\n",
    "        #Explore left branch\n",
    "        withVal, withToTake = maxVal(toConsider[1:],\n",
    "                                     avail - nextItem.getCost())\n",
    "        withVal += nextItem.getValue()\n",
    "        #Explore right branch\n",
    "        withoutVal, withoutToTake = maxVal(toConsider[1:], avail)\n",
    "        #Choose better branch\n",
    "        if withVal > withoutVal:\n",
    "            result = (withVal, withToTake + (nextItem,))\n",
    "        else:\n",
    "            result = (withoutVal, withoutToTake)\n",
    "    return result"
   ]
  },
  {
   "cell_type": "code",
   "execution_count": 35,
   "id": "601e6dfe",
   "metadata": {
    "id": "601e6dfe"
   },
   "outputs": [],
   "source": [
    "def testMaxVal(foods, maxUnits, printItems = True):\n",
    "    print('Use search tree to allocate', maxUnits,\n",
    "          'calories')\n",
    "    val, taken = maxVal(foods, maxUnits)\n",
    "    print('Total costs of foods taken =', val)\n",
    "    if printItems:\n",
    "        for item in taken:\n",
    "            print('   ', item)"
   ]
  },
  {
   "cell_type": "code",
   "execution_count": 36,
   "id": "f4c33d92",
   "metadata": {
    "colab": {
     "base_uri": "https://localhost:8080/",
     "height": 193
    },
    "id": "f4c33d92",
    "outputId": "9d869c75-c0f8-4a1b-dcbe-0a5cc30e0f7d"
   },
   "outputs": [
    {
     "ename": "TypeError",
     "evalue": "buildMenu() missing 1 required positional argument: 'weights'",
     "output_type": "error",
     "traceback": [
      "\u001b[0;31m---------------------------------------------------------------------------\u001b[0m",
      "\u001b[0;31mTypeError\u001b[0m                                 Traceback (most recent call last)",
      "\u001b[0;32m<ipython-input-36-6e5446a0f4b1>\u001b[0m in \u001b[0;36m<cell line: 4>\u001b[0;34m()\u001b[0m\n\u001b[1;32m      2\u001b[0m \u001b[0mvalues\u001b[0m \u001b[0;34m=\u001b[0m \u001b[0;34m[\u001b[0m\u001b[0;36m89\u001b[0m\u001b[0;34m,\u001b[0m\u001b[0;36m90\u001b[0m\u001b[0;34m,\u001b[0m\u001b[0;36m95\u001b[0m\u001b[0;34m,\u001b[0m\u001b[0;36m100\u001b[0m\u001b[0;34m,\u001b[0m\u001b[0;36m90\u001b[0m\u001b[0;34m,\u001b[0m\u001b[0;36m79\u001b[0m\u001b[0;34m,\u001b[0m\u001b[0;36m50\u001b[0m\u001b[0;34m,\u001b[0m\u001b[0;36m10\u001b[0m\u001b[0;34m]\u001b[0m\u001b[0;34m\u001b[0m\u001b[0;34m\u001b[0m\u001b[0m\n\u001b[1;32m      3\u001b[0m \u001b[0mcalories\u001b[0m \u001b[0;34m=\u001b[0m \u001b[0;34m[\u001b[0m\u001b[0;36m123\u001b[0m\u001b[0;34m,\u001b[0m\u001b[0;36m154\u001b[0m\u001b[0;34m,\u001b[0m\u001b[0;36m258\u001b[0m\u001b[0;34m,\u001b[0m\u001b[0;36m354\u001b[0m\u001b[0;34m,\u001b[0m\u001b[0;36m365\u001b[0m\u001b[0;34m,\u001b[0m\u001b[0;36m150\u001b[0m\u001b[0;34m,\u001b[0m\u001b[0;36m95\u001b[0m\u001b[0;34m,\u001b[0m\u001b[0;36m195\u001b[0m\u001b[0;34m]\u001b[0m\u001b[0;34m\u001b[0m\u001b[0;34m\u001b[0m\u001b[0m\n\u001b[0;32m----> 4\u001b[0;31m \u001b[0mfoods\u001b[0m \u001b[0;34m=\u001b[0m \u001b[0mbuildMenu\u001b[0m\u001b[0;34m(\u001b[0m\u001b[0mnames\u001b[0m\u001b[0;34m,\u001b[0m \u001b[0mvalues\u001b[0m\u001b[0;34m,\u001b[0m \u001b[0mcalories\u001b[0m\u001b[0;34m)\u001b[0m\u001b[0;34m\u001b[0m\u001b[0;34m\u001b[0m\u001b[0m\n\u001b[0m\u001b[1;32m      5\u001b[0m \u001b[0mtestMaxVal\u001b[0m\u001b[0;34m(\u001b[0m\u001b[0mfoods\u001b[0m\u001b[0;34m,\u001b[0m \u001b[0;36m2400\u001b[0m\u001b[0;34m)\u001b[0m\u001b[0;34m\u001b[0m\u001b[0;34m\u001b[0m\u001b[0m\n",
      "\u001b[0;31mTypeError\u001b[0m: buildMenu() missing 1 required positional argument: 'weights'"
     ]
    }
   ],
   "source": [
    "names = ['wine', 'beer', 'pizza', 'burger', 'fries','cola', 'apple', 'donut', 'cake']\n",
    "values = [89,90,95,100,90,79,50,10]\n",
    "calories = [123,154,258,354,365,150,95,195]\n",
    "foods = buildMenu(names, values, calories)\n",
    "testMaxVal(foods, 2400)"
   ]
  },
  {
   "cell_type": "markdown",
   "id": "T0U0NPg9dp9O",
   "metadata": {
    "id": "T0U0NPg9dp9O"
   },
   "source": [
    "Added weights"
   ]
  },
  {
   "cell_type": "code",
   "execution_count": null,
   "id": "wpgg4W3ydliH",
   "metadata": {
    "colab": {
     "base_uri": "https://localhost:8080/"
    },
    "id": "wpgg4W3ydliH",
    "outputId": "8cd8d61f-deb5-4b47-e847-45b7a2f9926a"
   },
   "outputs": [
    {
     "name": "stdout",
     "output_type": "stream",
     "text": [
      "Use search tree to allocate 2400 calories\n",
      "Total costs of foods taken = 603\n",
      "    donut: <10, 195, 0.3>\n",
      "    apple: <50, 95, 0.5>\n",
      "    cola: <79, 150, 1.2>\n",
      "    fries: <90, 365, 3>\n",
      "    burger: <100, 354, 2.5>\n",
      "    pizza: <95, 258, 2>\n",
      "    beer: <90, 154, 1.5>\n",
      "    wine: <89, 123, 1>\n"
     ]
    }
   ],
   "source": [
    "names = ['wine', 'beer', 'pizza', 'burger', 'fries','cola', 'apple', 'donut', 'cake']\n",
    "values = [89,90,95,100,90,79,50,10]\n",
    "calories = [123,154,258,354,365,150,95,195]\n",
    "foods = buildMenu(names, values, calories,weights)\n",
    "testMaxVal(foods, 2400)"
   ]
  },
  {
   "cell_type": "markdown",
   "id": "5e8ee81f",
   "metadata": {
    "id": "5e8ee81f"
   },
   "source": [
    "#### Supplementary Activity:"
   ]
  },
  {
   "cell_type": "markdown",
   "id": "1wne6rHGd5fX",
   "metadata": {
    "id": "1wne6rHGd5fX"
   },
   "source": [
    "Real-world Problem: (Oversimplified) Creating the best single season NBA team 2024-2025\n",
    "\n",
    "Constraints: Cap Space = $141000000\n",
    "\n",
    "Maximize: 2K rating\n",
    "\n",
    "The goal is to create a maximum of 15-man roster that is theoretically the best team ever assembled right now with Cap Space to consider.\n",
    "\n",
    "Limitations: There are over 500 players in the NBA and I could not find a database that stores all of them. I sourced my data based on this website:\n",
    "\n",
    "The maximum player rating is 99. The best player in the NBA right now is 98.\n",
    "\n",
    "https://www.2kratings.com/lists/top-100-highest-paid-nba-players\n",
    "\n",
    "I listed 73 players only.\n",
    "\n"
   ]
  },
  {
   "cell_type": "code",
   "execution_count": 19,
   "id": "kioeaUTXr4iW",
   "metadata": {
    "colab": {
     "base_uri": "https://localhost:8080/",
     "height": 0
    },
    "id": "kioeaUTXr4iW",
    "outputId": "260db007-98aa-4e73-a56a-8734c0ba2c56"
   },
   "outputs": [
    {
     "name": "stdout",
     "output_type": "stream",
     "text": [
      "-------------------------\n",
      "(BRUTE FORCE) Use search tree to allocate players within a salary cap of 141000000\n",
      "Total rating of players taken = 514\n",
      "    Lonzo Ball: <81, 20465117>\n",
      "    Clint Capela: <81, 20616000>\n",
      "    Myles Turner: <85, 20975000>\n",
      "    Mikal Bridges: <83, 21070000>\n",
      "    Jalen Brunson: <94, 27000000>\n",
      "    Domantas Sabonis: <90, 30800000>\n",
      "-------------------------\n",
      "Use greedy by rating to allocate 141000000 capspace\n",
      "Total rating of players taken = 293.0\n",
      "    Joel Embiid: <98, 47607350>\n",
      "    Nikola Jokic: <98, 47607350>\n",
      "    Giannis Antetokounmpo: <97, 45640084>\n",
      "Use greedy by salary to allocate 141000000 capspace\n",
      "Total rating of players taken = 482.0\n",
      "    Spencer Dinwiddie: <75, 20357143>\n",
      "    Lonzo Ball: <81, 20465117>\n",
      "    Clint Capela: <81, 20616000>\n",
      "    Myles Turner: <85, 20975000>\n",
      "    Mikal Bridges: <83, 21070000>\n",
      "    Bruce Brown: <77, 22000000>\n"
     ]
    }
   ],
   "source": [
    "class Player(object):\n",
    "    def __init__(self, n, r, s):\n",
    "        # Make the variables private\n",
    "        self.__name = n\n",
    "        self.__rating = r\n",
    "        self.__salary = s\n",
    "\n",
    "    def getName(self):\n",
    "        return self.__name\n",
    "\n",
    "    def getRating(self):\n",
    "        return self.__rating\n",
    "\n",
    "    def getSalary(self):\n",
    "        return self.__salary\n",
    "\n",
    "    def __str__(self):\n",
    "        return f\"{self.__name}: <{self.__rating}, {self.__salary}>\"\n",
    "\n",
    "def buildList(names, ratings, salaries):\n",
    "    player_list = []\n",
    "    for i in range(len(ratings)):\n",
    "        player_list.append(Player(names[i], ratings[i], salaries[i]))\n",
    "    return player_list\n",
    "\n",
    "##############################################################################\n",
    "def greedy(items, maxCost, keyFunction):\n",
    "    \"\"\"Assumes items a list, maxCost >= 0, keyFunction maps elements of items to numbers\"\"\"\n",
    "    itemsCopy = sorted(items, key=keyFunction, reverse=True)\n",
    "    result = []\n",
    "    totalRating, totalCost = 0.0, 0.0\n",
    "    for i in range(len(itemsCopy)):\n",
    "        if (totalCost + itemsCopy[i].getSalary()) <= maxCost:\n",
    "            result.append(itemsCopy[i])\n",
    "            totalCost += itemsCopy[i].getSalary()\n",
    "            totalRating += itemsCopy[i].getRating()\n",
    "    return (result, totalRating)\n",
    "\n",
    "def testGreedy(items, constraint, keyFunction):\n",
    "    taken, val = greedy(items, constraint, keyFunction)\n",
    "    print('Total rating of players taken =', val)\n",
    "    for item in taken:\n",
    "        print('   ', item)\n",
    "\n",
    "def testGreedys(players, maxUnits):\n",
    "    print('Use greedy by rating to allocate', maxUnits, 'capspace')\n",
    "    testGreedy(players, maxUnits, Player.getRating)\n",
    "\n",
    "    print('Use greedy by salary to allocate', maxUnits, 'capspace')\n",
    "    testGreedy(players, maxUnits, lambda x: -x.getSalary())\n",
    "##############################################################################\n",
    "##############################################################################\n",
    "def maxVal(toConsider, avail):\n",
    "    \"\"\"Assumes toConsider a list of items, avail a salary cap\n",
    "       Returns a tuple of the total rating of a solution to the\n",
    "       0/1 knapsack problem and the items of that solution\"\"\"\n",
    "    if toConsider == [] or avail == 0:\n",
    "        result = (0, ())\n",
    "    elif toConsider[0].getSalary() > avail:\n",
    "        # Explore right branch only\n",
    "        result = maxVal(toConsider[1:], avail)\n",
    "    else:\n",
    "        nextPlayer = toConsider[0]\n",
    "        # Explore left branch\n",
    "        withVal, withToTake = maxVal(toConsider[1:], avail - nextPlayer.getSalary())\n",
    "        withVal += nextPlayer.getRating()\n",
    "        # Explore right branch\n",
    "        withoutVal, withoutToTake = maxVal(toConsider[1:], avail)\n",
    "        # Choose better branch\n",
    "        if withVal > withoutVal:\n",
    "            result = (withVal, withToTake + (nextPlayer,))\n",
    "        else:\n",
    "            result = (withoutVal, withoutToTake)\n",
    "    return result\n",
    "\n",
    "def testMaxVal(players, maxSalary, printItems=True):\n",
    "    print('(BRUTE FORCE) Use search tree to allocate players within a salary cap of', maxSalary)\n",
    "    val, taken = maxVal(players, maxSalary)\n",
    "    print('Total rating of players taken =', val)\n",
    "    if printItems:\n",
    "        for player in taken:\n",
    "            print('   ', player)\n",
    "##############################################################################\n",
    "names = [\n",
    "    \"Stephen Curry\", \"Kevin Durant\", \"Joel Embiid\", \"LeBron James\", \"Nikola Jokic\",\n",
    "    \"Bradley Beal\", \"Paul George\", \"Damian Lillard\", \"Giannis Antetokounmpo\", \"Kawhi Leonard\",\n",
    "    \"Jimmy Butler\", \"Klay Thompson\", \"Rudy Gobert\", \"Fred VanVleet\", \"Anthony Davis\",\n",
    "    \"Trae Young\", \"Zach LaVine\", \"Luka Doncic\", \"Tobias Harris\", \"Ben Simmons\",\n",
    "    \"Pascal Siakam\", \"Kyrie Irving\", \"Jrue Holiday\", \"Devin Booker\", \"Karl-Anthony Towns\",\n",
    "    \"Kristaps Porzingis\", \"C.J. McCollum\", \"James Harden\", \"Zion Williamson\", \"Ja Morant\",\n",
    "    \"Darius Garland\", \"Brandon Ingram\", \"Jamal Murray\", \"Shai Gilgeous-Alexander\", \"Michael Porter Jr.\",\n",
    "    \"Donovan Mitchell\", \"Jayson Tatum\", \"De’Aaron Fox\", \"Bam Adebayo\", \"Deandre Ayton\",\n",
    "    \"Jaylen Brown\", \"Gordon Hayward\", \"Chris Paul\", \"Domantas Sabonis\", \"Kyle Lowry\",\n",
    "    \"Khris Middleton\", \"DeMar DeRozan\", \"Julius Randle\", \"Jordan Poole\", \"Jerami Grant\",\n",
    "    \"Jaren Jackson Jr.\", \"Tyler Herro\", \"Jalen Brunson\", \"Cameron Johnson\", \"Kyle Kuzma\",\n",
    "    \"John Collins\", \"Brook Lopez\", \"Mike Conley\", \"Andrew Wiggins\", \"Anfernee Simons\",\n",
    "    \"R.J. Barrett\", \"Jordan Clarkson\", \"Terry Rozier III\", \"Dillon Brooks\", \"Malcolm Brogdon\",\n",
    "    \"Draymond Green\", \"Aaron Gordon\", \"Bruce Brown\", \"Mikal Bridges\", \"Myles Turner\",\n",
    "    \"Clint Capela\", \"Lonzo Ball\", \"Spencer Dinwiddie\",\n",
    "]\n",
    "\n",
    "ratings = [\n",
    "    95, 96, 98, 96, 98, 86, 89, 89, 97, 92, 93, 82, 87, 85, 95, 89, 83, 97, 81, 77,\n",
    "    90, 94, 87, 95, 88, 88, 85, 85, 88, 93, 82, 86, 89, 97, 84, 93, 96, 89, 88, 85,\n",
    "    93, 76, 79, 90, 78, 87, 88, 86, 80, 82, 87, 83, 94, 79, 83, 81, 81, 81, 81, 79,\n",
    "    83, 79, 81, 80, 81, 83, 85, 77, 83, 85, 81, 81, 75\n",
    "]\n",
    "\n",
    "salaries = [\n",
    "    51915615, 47649433, 47607350, 47607350, 47607350, 46741590, 45640165, 45640084, 45640084, 45640084,\n",
    "    45183960, 43219440, 41000000, 40806300, 40600080, 40064220, 40064220, 40064220, 39270150, 37893408,\n",
    "    37893408, 37037037, 36861707, 36016200, 36016200, 36016200, 36000000, 34005250, 34005250, 34005250,\n",
    "    34005250, 33833400, 33833400, 33833400, 33833400, 33833400, 33833400, 32600060, 32600060, 32600060,\n",
    "    32459438, 31830357, 31500000, 30800000, 30600000, 29825000, 29320988, 28600000, 28226880, 27955357,\n",
    "    27586207, 27102202, 27000000, 26346666, 26346666, 25568182, 25340000, 25300000, 24460000, 24460000,\n",
    "    24410000, 24410000, 24410000, 24410000, 24410000, 24410000, 24410000, 22000000, 21070000, 20975000,\n",
    "    20616000, 20465117, 20357143\n",
    "]\n",
    "\n",
    "\n",
    "players = buildList(names, ratings, salaries)\n",
    "print(\"-------------------------\")\n",
    "testMaxVal(players, 141000000)\n",
    "print(\"-------------------------\")\n",
    "testGreedys(players, 141000000)"
   ]
  },
  {
   "cell_type": "markdown",
   "id": "8raUuq8stgav",
   "metadata": {
    "id": "8raUuq8stgav"
   },
   "source": [
    "Explanation: Using brute force, the algorithm was able to achieve a 2k rating sum of 514 compared to the greedy algorithm (293,482). The downside of it was the runtime was noticeably slower.\n",
    "\n",
    "There are two greedy tests. The first greedy test prioritized players with the highest ratings first and then traverses down from there. We are left with the 3 players with the highest ratings among the list. They only accumulated a total score of 293 because they are paid so much that they consume too much cap space.\n",
    "\n",
    "The second greedy test prioritized the cheapest players from the list. They were able to accumulate a higher score than the first one because they had more players and the gap between the rating of the cheapest players and the best players is only 23,17,16 points respectively which was not enough gap to compensate for the lack of players on the first one.\n",
    "\n",
    "Based on my observations, increasing the salary cap took so much more time for brute force to output something while the greedy algorithm took only seconds to execute. The brute force algorithm was the most successful algorithm in solving this problem as it was able to achieve the highest score among the 3. However, this came at a cost of a slow execution."
   ]
  },
  {
   "cell_type": "markdown",
   "id": "8bbdd39c",
   "metadata": {
    "id": "8bbdd39c"
   },
   "source": [
    "#### Conclusion:"
   ]
  },
  {
   "cell_type": "markdown",
   "id": "fb608ce3",
   "metadata": {
    "id": "fb608ce3"
   },
   "source": [
    "This lesson helped me to understand the greedy and brute force algorithm, especially through the supplementary activity. I learned the pros and cons of using both methods and applying it to optimize constraints found in real life."
   ]
  }
 ],
 "metadata": {
  "colab": {
   "provenance": []
  },
  "kernelspec": {
   "display_name": "Python 3 (ipykernel)",
   "language": "python",
   "name": "python3"
  },
  "language_info": {
   "codemirror_mode": {
    "name": "ipython",
    "version": 3
   },
   "file_extension": ".py",
   "mimetype": "text/x-python",
   "name": "python",
   "nbconvert_exporter": "python",
   "pygments_lexer": "ipython3",
   "version": "3.10.9"
  }
 },
 "nbformat": 4,
 "nbformat_minor": 5
}
